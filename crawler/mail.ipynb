{
 "cells": [
  {
   "cell_type": "code",
   "execution_count": 15,
   "source": [
    "import smtplib\n",
    "from email.mime.text import MIMEText\n",
    "from email.header import Header"
   ],
   "outputs": [],
   "metadata": {}
  },
  {
   "cell_type": "code",
   "execution_count": 33,
   "source": [
    "\n",
    "\n",
    "#邮件发送方邮箱地址\n",
    "sender = 'njucharles@163.com'  \n",
    "#邮件接受方邮箱地址，注意需要[]包裹，这意味着你可以写多个邮件地址群发\n",
    "receivers = ['njucharles@163.com']\n",
    "\n",
    "#设置服务器所需信息\n",
    "#163邮箱服务器地址\n",
    "mail_host = 'smtp.163.com'\n",
    "#163用户名\n",
    "mail_user = 'njucharles@163.com'  \n",
    "#密码(部分邮箱为授权码) \n",
    "mail_pass = 'QTSSCJDRBMZMDITI'   \n",
    "\n",
    "\n",
    "\n",
    "#设置email信息\n",
    "#邮件内容设置\n",
    "message = MIMEText('同学您好，你的来信已收到，谢谢','plain','utf-8')\n",
    "#邮件主题       \n",
    "subject = 'Python SMTP 邮件测试'\n",
    "message['Subject'] = subject\n",
    "# Header(subject, 'utf-8')\n",
    "#发送方信息\n",
    "# message['From'] = \"Charles<njucharles@163.com>\"\n",
    "message['From'] = Header(sender)\n",
    "# sender\n",
    "\n",
    "#接受方信息\n",
    "# message['To'] = \"忘川<1340707967@qq.com>\"\n",
    "message['To'] = Header(receivers[0])"
   ],
   "outputs": [],
   "metadata": {}
  },
  {
   "cell_type": "code",
   "execution_count": 34,
   "source": [
    "#登录并发送邮件\r\n",
    "try:\r\n",
    "    smtpObj = smtplib.SMTP() \r\n",
    "    #连接到服务器\r\n",
    "    smtpObj.connect(mail_host,25)\r\n",
    "    #登录到服务器\r\n",
    "    smtpObj.login(mail_user,mail_pass) \r\n",
    "    #发送\r\n",
    "    smtpObj.sendmail(\r\n",
    "        sender,receivers,message.as_string()) \r\n",
    "    #退出\r\n",
    "    smtpObj.quit() \r\n",
    "    print('success')\r\n",
    "except smtplib.SMTPException as e:\r\n",
    "    print('error',e) #打印错误"
   ],
   "outputs": [
    {
     "output_type": "stream",
     "name": "stdout",
     "text": [
      "success\n"
     ]
    }
   ],
   "metadata": {}
  }
 ],
 "metadata": {
  "orig_nbformat": 4,
  "language_info": {
   "name": "python",
   "version": "3.8.3",
   "mimetype": "text/x-python",
   "codemirror_mode": {
    "name": "ipython",
    "version": 3
   },
   "pygments_lexer": "ipython3",
   "nbconvert_exporter": "python",
   "file_extension": ".py"
  },
  "kernelspec": {
   "name": "python3",
   "display_name": "Python 3.8.3 64-bit ('base': conda)"
  },
  "interpreter": {
   "hash": "51a9663a131f1b5758c45b97a2d6917c8ae86b33e231c3733631cbc7265cfc89"
  }
 },
 "nbformat": 4,
 "nbformat_minor": 2
}